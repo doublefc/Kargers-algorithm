{
 "cells": [
  {
   "cell_type": "code",
   "execution_count": 1,
   "id": "053b872f",
   "metadata": {},
   "outputs": [],
   "source": [
    "import numpy as np\n",
    "from collections import defaultdict"
   ]
  },
  {
   "cell_type": "markdown",
   "id": "2e87bccf",
   "metadata": {},
   "source": [
    "## Ввод графа"
   ]
  },
  {
   "cell_type": "markdown",
   "id": "65567474",
   "metadata": {},
   "source": [
    "Вводим граф в виде списка ребер."
   ]
  },
  {
   "cell_type": "code",
   "execution_count": 14,
   "id": "29ff07dd",
   "metadata": {},
   "outputs": [
    {
     "name": "stdout",
     "output_type": "stream",
     "text": [
      "Введите количество вершин 7\n",
      "Введите количество ребер 13\n",
      "Введите ребро: 1 2\n",
      "Введите ребро: 2 3\n",
      "Введите ребро: 3 4\n",
      "Введите ребро: 1 4\n",
      "Введите ребро: 3 5\n",
      "Введите ребро: 4 6\n",
      "Введите ребро: 6 5\n",
      "Введите ребро: 5 7\n",
      "Введите ребро: 7 6\n",
      "Введите ребро: 6 7\n",
      "Введите ребро: 2 4\n",
      "Введите ребро: 1 7\n",
      "Введите ребро: 2 7\n",
      "Минимальный разрез графа равен  3\n"
     ]
    }
   ],
   "source": [
    "c=defaultdict(list)\n",
    "n=int(input('Введите количество вершин '))\n",
    "m=int(input('Введите количество ребер '))\n",
    "for _ in range(m):\n",
    "    \n",
    "    s= [int(i) for i in input('Введите ребро: ').split()]\n",
    "    c[s[0]].append(s[1])\n",
    "    c[s[1]].append(s[0])\n",
    "c=dict(c)  \n",
    "    \n",
    "print(\"Минимальный разрез графа равен \", min_cut(c))"
   ]
  },
  {
   "cell_type": "code",
   "execution_count": null,
   "id": "e5f15b91",
   "metadata": {},
   "outputs": [],
   "source": [
    "Введите количество вершин 7\n",
    "Введите количество ребер 11\n",
    "Введите ребро: 1 2\n",
    "Введите ребро: 2 3\n",
    "Введите ребро: 3 4\n",
    "Введите ребро: 1 4\n",
    "Введите ребро: 3 5\n",
    "Введите ребро: 4 6\n",
    "Введите ребро: 6 5\n",
    "Введите ребро: 5 7\n",
    "Введите ребро: 7 6\n",
    "Введите ребро: 6 7\n",
    "Введите ребро: 2 4\n",
    "Минимальный разрез графа равен  2"
   ]
  },
  {
   "cell_type": "markdown",
   "id": "8604a9a3",
   "metadata": {},
   "source": [
    "## Функция для получения разреза"
   ]
  },
  {
   "cell_type": "code",
   "execution_count": 3,
   "id": "9327b058",
   "metadata": {},
   "outputs": [],
   "source": [
    "def get_cut(graph, r):\n",
    "    G=dict()\n",
    "    for i in graph.keys():\n",
    "        G[i]=graph[i].copy()\n",
    "    while len(G)!=2:\n",
    "        \n",
    "        n = len(G)\n",
    "        \n",
    "        np.random.seed(r)\n",
    "\n",
    "        a=np.random.choice(list(G.keys()), 1)[0]\n",
    "\n",
    "        b=np.random.choice(G[a], 1)[0]\n",
    "\n",
    "        k=max(G.keys())\n",
    "        \n",
    "        while b in G[a]:\n",
    "            G[a].remove(b)\n",
    "            \n",
    "        while a in G[b]:\n",
    "            G[b].remove(a)\n",
    "            \n",
    "        G[k+1]=G[a]+G[b]\n",
    "        for i in G[a]:\n",
    "            G[i].remove(a)\n",
    "            G[i].append(k+1)\n",
    "        for i in G[b]:\n",
    "            G[i].remove(b)\n",
    "            G[i].append(k+1)\n",
    "\n",
    "        G.pop(a)\n",
    "        G.pop(b)\n",
    "        #print(G)\n",
    "    return len(G[list(G.keys())[0]])\n"
   ]
  },
  {
   "cell_type": "markdown",
   "id": "fc9e329b",
   "metadata": {},
   "source": [
    "## Функция получения минимального разреза."
   ]
  },
  {
   "cell_type": "code",
   "execution_count": 5,
   "id": "11d2a5c5",
   "metadata": {},
   "outputs": [],
   "source": [
    "def min_cut(G):\n",
    "    answer = np.inf\n",
    "    l = len(G)\n",
    "    if l< n:\n",
    "        return 0\n",
    "    for i in range(int(l**2*np.log(l))):\n",
    "        curCut = get_cut(G, i)\n",
    "        if curCut < answer:\n",
    "            answer = curCut\n",
    "        #print(curCut, answer)\n",
    "    return answer"
   ]
  }
 ],
 "metadata": {
  "kernelspec": {
   "display_name": "Python 3 (ipykernel)",
   "language": "python",
   "name": "python3"
  },
  "language_info": {
   "codemirror_mode": {
    "name": "ipython",
    "version": 3
   },
   "file_extension": ".py",
   "mimetype": "text/x-python",
   "name": "python",
   "nbconvert_exporter": "python",
   "pygments_lexer": "ipython3",
   "version": "3.9.12"
  }
 },
 "nbformat": 4,
 "nbformat_minor": 5
}
