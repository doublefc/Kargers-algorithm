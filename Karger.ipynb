{
 "cells": [
  {
   "cell_type": "code",
   "execution_count": 294,
   "id": "587a20fa",
   "metadata": {},
   "outputs": [],
   "source": [
    "import numpy as np\n",
    "from collections import defaultdict"
   ]
  },
  {
   "cell_type": "markdown",
   "id": "88c88bf3",
   "metadata": {},
   "source": [
    "## Ввод графа"
   ]
  },
  {
   "cell_type": "markdown",
   "id": "0331a046",
   "metadata": {},
   "source": [
    "Вводим граф в виде списка ребер."
   ]
  },
  {
   "cell_type": "code",
   "execution_count": 310,
   "id": "814d1c7e",
   "metadata": {},
   "outputs": [
    {
     "name": "stdout",
     "output_type": "stream",
     "text": [
      "Введите количество вершин 4\n",
      "Введите количество ребер 4\n",
      "Введите ребро: 1 2\n",
      "Введите ребро: 2 3\n",
      "Введите ребро: 3 4\n",
      "Введите ребро: 4 2\n"
     ]
    }
   ],
   "source": [
    "\n",
    "\n",
    "\n",
    "c=defaultdict(list)\n",
    "n=int(input('Введите количество вершин '))\n",
    "m=int(input('Введите количество ребер '))\n",
    "for _ in range(m):\n",
    "    \n",
    "    s= [int(i) for i in input('Введите ребро: ').split()]\n",
    "    c[s[0]].append(s[1])\n",
    "    c[s[1]].append(s[0])\n",
    "c=dict(c)  \n",
    "    \n",
    "    "
   ]
  },
  {
   "cell_type": "markdown",
   "id": "430ca15a",
   "metadata": {},
   "source": [
    "## Функция для получения разреза"
   ]
  },
  {
   "cell_type": "code",
   "execution_count": 334,
   "id": "01f657c6",
   "metadata": {},
   "outputs": [],
   "source": [
    "def get_cut(graph, r):\n",
    "    G=dict()\n",
    "    for i in graph.keys():\n",
    "        G[i]=graph[i].copy()\n",
    "    while len(G)!=2:\n",
    "        \n",
    "        n = len(G)\n",
    "        \n",
    "        np.random.seed(r)\n",
    "        \n",
    "        #print(G, d)\n",
    "        \n",
    "        a=np.random.choice(list(G.keys()), 1)[0]\n",
    "        \n",
    "       # print('a= ', a)\n",
    "        \n",
    "        b=np.random.choice(G[a], 1)[0]\n",
    "        #print('b= ',b)\n",
    "        \n",
    "        k=max(G.keys())\n",
    "        \n",
    "        while b in G[a]:\n",
    "            G[a].remove(b)\n",
    "            \n",
    "        while a in G[b]:\n",
    "            G[b].remove(a)\n",
    "            \n",
    "        G[k+1]=G[a]+G[b]\n",
    "        for i in G[a]:\n",
    "            G[i].remove(a)\n",
    "            G[i].append(k+1)\n",
    "        for i in G[b]:\n",
    "            G[i].remove(b)\n",
    "            G[i].append(k+1)\n",
    "\n",
    "        G.pop(a)\n",
    "        G.pop(b)\n",
    "        #print(G)\n",
    "    return len(G[list(G.keys())[0]])\n"
   ]
  },
  {
   "cell_type": "code",
   "execution_count": 335,
   "id": "651b9e51",
   "metadata": {},
   "outputs": [
    {
     "data": {
      "text/plain": [
       "1"
      ]
     },
     "execution_count": 335,
     "metadata": {},
     "output_type": "execute_result"
    }
   ],
   "source": [
    "get_cut(c,3)"
   ]
  },
  {
   "cell_type": "markdown",
   "id": "88f95446",
   "metadata": {},
   "source": [
    "## Функция получения минимального разреза."
   ]
  },
  {
   "cell_type": "code",
   "execution_count": 336,
   "id": "4ad474ec",
   "metadata": {},
   "outputs": [],
   "source": [
    "def min_cut(G):\n",
    "    answer = np.inf\n",
    "    n = len(G)\n",
    "    for i in range(int(n**2*np.log(n))):\n",
    "        curCut = get_cut(G, i)\n",
    "        if curCut < answer:\n",
    "            answer = curCut\n",
    "        #print(curCut, answer)\n",
    "    return answer"
   ]
  },
  {
   "cell_type": "code",
   "execution_count": 337,
   "id": "f4a24576",
   "metadata": {},
   "outputs": [
    {
     "data": {
      "text/plain": [
       "1"
      ]
     },
     "execution_count": 337,
     "metadata": {},
     "output_type": "execute_result"
    }
   ],
   "source": [
    "min_cut(c)"
   ]
  }
 ],
 "metadata": {
  "kernelspec": {
   "display_name": "Python 3 (ipykernel)",
   "language": "python",
   "name": "python3"
  },
  "language_info": {
   "codemirror_mode": {
    "name": "ipython",
    "version": 3
   },
   "file_extension": ".py",
   "mimetype": "text/x-python",
   "name": "python",
   "nbconvert_exporter": "python",
   "pygments_lexer": "ipython3",
   "version": "3.9.12"
  }
 },
 "nbformat": 4,
 "nbformat_minor": 5
}
